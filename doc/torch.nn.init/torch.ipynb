{
 "cells": [
  {
   "cell_type": "code",
   "execution_count": 2,
   "id": "40a05469",
   "metadata": {},
   "outputs": [],
   "source": [
    "import torch\n",
    "import torch.nn as nn"
   ]
  },
  {
   "cell_type": "code",
   "execution_count": 8,
   "id": "a3674603",
   "metadata": {},
   "outputs": [
    {
     "name": "stdout",
     "output_type": "stream",
     "text": [
      "before param init: \n",
      "tensor([[2.1019e-44, 0.0000e+00, 0.0000e+00, 0.0000e+00, 0.0000e+00],\n",
      "        [0.0000e+00, 0.0000e+00, 0.0000e+00, 0.0000e+00, 0.0000e+00],\n",
      "        [1.4013e-45, 0.0000e+00, 0.0000e+00, 0.0000e+00, 0.0000e+00]])\n"
     ]
    }
   ],
   "source": [
    "w = torch.empty(3,5)\n",
    "print(\"before param init: \\n{}\".format(w))"
   ]
  },
  {
   "cell_type": "markdown",
   "id": "81e91e1e",
   "metadata": {},
   "source": [
    "# 1.1 constant init"
   ]
  },
  {
   "cell_type": "code",
   "execution_count": 9,
   "id": "f0a3377d",
   "metadata": {},
   "outputs": [
    {
     "name": "stdout",
     "output_type": "stream",
     "text": [
      "after param init: \n",
      "tensor([[0.3000, 0.3000, 0.3000, 0.3000, 0.3000],\n",
      "        [0.3000, 0.3000, 0.3000, 0.3000, 0.3000],\n",
      "        [0.3000, 0.3000, 0.3000, 0.3000, 0.3000]])\n"
     ]
    }
   ],
   "source": [
    "nn.init.constant_(w, 0.3)\n",
    "print(\"after param init: \\n{}\".format(w))"
   ]
  },
  {
   "cell_type": "markdown",
   "id": "a11276bb",
   "metadata": {},
   "source": [
    "# 1.2 ones init"
   ]
  },
  {
   "cell_type": "code",
   "execution_count": 10,
   "id": "b94830b1",
   "metadata": {},
   "outputs": [
    {
     "name": "stdout",
     "output_type": "stream",
     "text": [
      "after param init: \n",
      "tensor([[1., 1., 1., 1., 1.],\n",
      "        [1., 1., 1., 1., 1.],\n",
      "        [1., 1., 1., 1., 1.]])\n"
     ]
    }
   ],
   "source": [
    "nn.init.ones_(w)\n",
    "print(\"after param init: \\n{}\".format(w))"
   ]
  },
  {
   "cell_type": "markdown",
   "id": "37740034",
   "metadata": {},
   "source": [
    "# 1.3 zeros init"
   ]
  },
  {
   "cell_type": "code",
   "execution_count": 13,
   "id": "119e2dd0",
   "metadata": {},
   "outputs": [
    {
     "name": "stdout",
     "output_type": "stream",
     "text": [
      "after param init: \n",
      "tensor([[0., 0., 0., 0., 0.],\n",
      "        [0., 0., 0., 0., 0.],\n",
      "        [0., 0., 0., 0., 0.]])\n"
     ]
    }
   ],
   "source": [
    "nn.init.zeros_(w)\n",
    "print(\"after param init: \\n{}\".format(w))"
   ]
  },
  {
   "cell_type": "markdown",
   "id": "39cab158",
   "metadata": {},
   "source": [
    "# 1.4 uniform init"
   ]
  },
  {
   "cell_type": "code",
   "execution_count": 11,
   "id": "9dd0f0d8",
   "metadata": {},
   "outputs": [
    {
     "name": "stdout",
     "output_type": "stream",
     "text": [
      "after param init: \n",
      "tensor([[0.1334, 0.1481, 0.0873, 0.0549, 0.0836],\n",
      "        [0.0879, 0.1342, 0.0190, 0.0243, 0.0833],\n",
      "        [0.1841, 0.1628, 0.1085, 0.1762, 0.1280]])\n"
     ]
    }
   ],
   "source": [
    "nn.init.uniform_(w, a=0.0, b=0.2)\n",
    "print(\"after param init: \\n{}\".format(w))"
   ]
  },
  {
   "cell_type": "markdown",
   "id": "13c392e2",
   "metadata": {},
   "source": [
    "# 1.5 normal init"
   ]
  },
  {
   "cell_type": "code",
   "execution_count": 12,
   "id": "c635a112",
   "metadata": {},
   "outputs": [
    {
     "name": "stdout",
     "output_type": "stream",
     "text": [
      "after param init: \n",
      "tensor([[-0.7240,  2.8742, -0.0042, -0.8570, -0.2146],\n",
      "        [-0.1037, -1.1148,  0.5375,  0.3584,  0.3762],\n",
      "        [-1.0913,  2.4409, -0.2740, -0.4937,  0.5900]])\n"
     ]
    }
   ],
   "source": [
    "nn.init.normal_(w, mean=0.0, std=1)\n",
    "print(\"after param init: \\n{}\".format(w))"
   ]
  },
  {
   "cell_type": "code",
   "execution_count": null,
   "id": "3185b5dd",
   "metadata": {},
   "outputs": [],
   "source": []
  }
 ],
 "metadata": {
  "kernelspec": {
   "display_name": "Python 3 (ipykernel)",
   "language": "python",
   "name": "python3"
  },
  "language_info": {
   "codemirror_mode": {
    "name": "ipython",
    "version": 3
   },
   "file_extension": ".py",
   "mimetype": "text/x-python",
   "name": "python",
   "nbconvert_exporter": "python",
   "pygments_lexer": "ipython3",
   "version": "3.10.5"
  }
 },
 "nbformat": 4,
 "nbformat_minor": 5
}
