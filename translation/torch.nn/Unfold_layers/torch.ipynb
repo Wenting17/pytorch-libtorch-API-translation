{
 "cells": [
  {
   "cell_type": "code",
   "execution_count": 1,
   "id": "3abe6669",
   "metadata": {},
   "outputs": [],
   "source": [
    "import torch\n",
    "import torch.nn as nn"
   ]
  },
  {
   "cell_type": "code",
   "execution_count": 13,
   "id": "3f1b5bb1",
   "metadata": {},
   "outputs": [
    {
     "name": "stdout",
     "output_type": "stream",
     "text": [
      "tensor([[[[-0.8331,  0.7040, -1.4139, -0.6550],\n",
      "          [ 0.0994, -2.4464, -0.0328, -0.1848],\n",
      "          [-0.5071, -0.5411, -0.6181, -0.4922]],\n",
      "\n",
      "         [[-2.0584,  0.5070, -1.6810,  1.1463],\n",
      "          [-1.0809, -2.6029, -0.8712,  0.0188],\n",
      "          [ 0.1240,  0.3978, -1.2131,  0.4445]]]])\n"
     ]
    }
   ],
   "source": [
    "input = torch.randn(1, 2, 3, 4)\n",
    "print(input)"
   ]
  },
  {
   "cell_type": "markdown",
   "id": "922411eb",
   "metadata": {},
   "source": [
    "# nn.Unfold\n",
    "Extracts sliding local blocks from a batched input tensor."
   ]
  },
  {
   "cell_type": "markdown",
   "id": "626163bd",
   "metadata": {},
   "source": [
    "torch.nn.Unfold(kernel_size, dilation=1, padding=0, stride=1)\n",
    "\n",
    "https://pytorch.org/docs/stable/generated/torch.nn.Unfold.html#torch.nn.Unfold"
   ]
  },
  {
   "cell_type": "code",
   "execution_count": 14,
   "id": "eac89c72",
   "metadata": {},
   "outputs": [],
   "source": [
    "unfold = nn.Unfold(kernel_size=(2, 3))"
   ]
  },
  {
   "cell_type": "code",
   "execution_count": 15,
   "id": "97a1df86",
   "metadata": {},
   "outputs": [
    {
     "name": "stdout",
     "output_type": "stream",
     "text": [
      "tensor([[[-0.8331,  0.7040,  0.0994, -2.4464],\n",
      "         [ 0.7040, -1.4139, -2.4464, -0.0328],\n",
      "         [-1.4139, -0.6550, -0.0328, -0.1848],\n",
      "         [ 0.0994, -2.4464, -0.5071, -0.5411],\n",
      "         [-2.4464, -0.0328, -0.5411, -0.6181],\n",
      "         [-0.0328, -0.1848, -0.6181, -0.4922],\n",
      "         [-2.0584,  0.5070, -1.0809, -2.6029],\n",
      "         [ 0.5070, -1.6810, -2.6029, -0.8712],\n",
      "         [-1.6810,  1.1463, -0.8712,  0.0188],\n",
      "         [-1.0809, -2.6029,  0.1240,  0.3978],\n",
      "         [-2.6029, -0.8712,  0.3978, -1.2131],\n",
      "         [-0.8712,  0.0188, -1.2131,  0.4445]]])\n",
      "torch.Size([1, 12, 4])\n"
     ]
    }
   ],
   "source": [
    "output = unfold(input)\n",
    "print(output)\n",
    "print(output.shape)"
   ]
  },
  {
   "cell_type": "markdown",
   "id": "15aadefd",
   "metadata": {},
   "source": [
    "# how to reimplement it?"
   ]
  },
  {
   "cell_type": "code",
   "execution_count": 17,
   "id": "82a961d8",
   "metadata": {},
   "outputs": [
    {
     "name": "stdout",
     "output_type": "stream",
     "text": [
      "tensor([[-0.8331,  0.7040, -1.4139,  0.0994, -2.4464, -0.0328, -2.0584,  0.5070,\n",
      "         -1.6810, -1.0809, -2.6029, -0.8712]])\n",
      "torch.Size([1, 12])\n",
      "tensor([[ 0.7040, -1.4139, -0.6550, -2.4464, -0.0328, -0.1848,  0.5070, -1.6810,\n",
      "          1.1463, -2.6029, -0.8712,  0.0188]])\n",
      "torch.Size([1, 12])\n",
      "tensor([[ 0.0994, -2.4464, -0.0328, -0.5071, -0.5411, -0.6181, -1.0809, -2.6029,\n",
      "         -0.8712,  0.1240,  0.3978, -1.2131]])\n",
      "torch.Size([1, 12])\n",
      "tensor([[-2.4464, -0.0328, -0.1848, -0.5411, -0.6181, -0.4922, -2.6029, -0.8712,\n",
      "          0.0188,  0.3978, -1.2131,  0.4445]])\n",
      "torch.Size([1, 12])\n",
      "tensor(True)\n"
     ]
    }
   ],
   "source": [
    "output_manual = []\n",
    "kernel_size = [2, 3]\n",
    "# sliding window approach\n",
    "for i in torch.arange(input.size(2)-kernel_size[0]+1):\n",
    "    for j in torch.arange(input.size(3)-kernel_size[1]+1):\n",
    "        # index current patch\n",
    "        tmp = input[:, :, i:i+kernel_size[0], j:j+kernel_size[1]]\n",
    "        # flatten and keep batch dim\n",
    "        tmp = tmp.contiguous().view(tmp.size(0), -1) # has a shape of [2, 30] afterwards\n",
    "        output_manual.append(tmp)\n",
    "        print(tmp)\n",
    "        print(tmp.shape)\n",
    "    \n",
    "# stack outputs in dim2\n",
    "output_manual = torch.stack(output_manual, dim=2)\n",
    "\n",
    "# compare\n",
    "print((output_manual == output).all())\n",
    "# > tensor(True)"
   ]
  },
  {
   "cell_type": "code",
   "execution_count": 18,
   "id": "5598717b",
   "metadata": {},
   "outputs": [
    {
     "data": {
      "text/plain": [
       "tensor([[[-0.8331,  0.7040,  0.0994, -2.4464],\n",
       "         [ 0.7040, -1.4139, -2.4464, -0.0328],\n",
       "         [-1.4139, -0.6550, -0.0328, -0.1848],\n",
       "         [ 0.0994, -2.4464, -0.5071, -0.5411],\n",
       "         [-2.4464, -0.0328, -0.5411, -0.6181],\n",
       "         [-0.0328, -0.1848, -0.6181, -0.4922],\n",
       "         [-2.0584,  0.5070, -1.0809, -2.6029],\n",
       "         [ 0.5070, -1.6810, -2.6029, -0.8712],\n",
       "         [-1.6810,  1.1463, -0.8712,  0.0188],\n",
       "         [-1.0809, -2.6029,  0.1240,  0.3978],\n",
       "         [-2.6029, -0.8712,  0.3978, -1.2131],\n",
       "         [-0.8712,  0.0188, -1.2131,  0.4445]]])"
      ]
     },
     "execution_count": 18,
     "metadata": {},
     "output_type": "execute_result"
    }
   ],
   "source": [
    "output_manual"
   ]
  },
  {
   "cell_type": "markdown",
   "id": "6dcf6f82",
   "metadata": {},
   "source": [
    "# how to reshape the output of nn.Unfold to behave like a convolution"
   ]
  },
  {
   "cell_type": "code",
   "execution_count": 27,
   "id": "b9ed40d3",
   "metadata": {},
   "outputs": [
    {
     "name": "stdout",
     "output_type": "stream",
     "text": [
      "tensor([[[[[-0.8331,  0.7040, -1.4139],\n",
      "           [ 0.0994, -2.4464, -0.0328]],\n",
      "\n",
      "          [[ 0.7040, -1.4139, -0.6550],\n",
      "           [-2.4464, -0.0328, -0.1848]],\n",
      "\n",
      "          [[ 0.0994, -2.4464, -0.0328],\n",
      "           [-0.5071, -0.5411, -0.6181]],\n",
      "\n",
      "          [[-2.4464, -0.0328, -0.1848],\n",
      "           [-0.5411, -0.6181, -0.4922]]],\n",
      "\n",
      "\n",
      "         [[[-2.0584,  0.5070, -1.6810],\n",
      "           [-1.0809, -2.6029, -0.8712]],\n",
      "\n",
      "          [[ 0.5070, -1.6810,  1.1463],\n",
      "           [-2.6029, -0.8712,  0.0188]],\n",
      "\n",
      "          [[-1.0809, -2.6029, -0.8712],\n",
      "           [ 0.1240,  0.3978, -1.2131]],\n",
      "\n",
      "          [[-2.6029, -0.8712,  0.0188],\n",
      "           [ 0.3978, -1.2131,  0.4445]]]]])\n",
      "torch.Size([1, 2, 4, 2, 3])\n"
     ]
    }
   ],
   "source": [
    "output_like_convolution = output.reshape((1,2,6,4)).transpose(-1,-2).reshape(1,2,-1,2,3)\n",
    "print(output_like_convolution)\n",
    "print(output_like_convolution.shape)"
   ]
  },
  {
   "cell_type": "markdown",
   "id": "78c876d8",
   "metadata": {},
   "source": [
    "# reference\n",
    "https://discuss.pytorch.org/t/how-nn-unfold-works/137349"
   ]
  }
 ],
 "metadata": {
  "kernelspec": {
   "display_name": "Python 3",
   "language": "python",
   "name": "python3"
  },
  "language_info": {
   "codemirror_mode": {
    "name": "ipython",
    "version": 3
   },
   "file_extension": ".py",
   "mimetype": "text/x-python",
   "name": "python",
   "nbconvert_exporter": "python",
   "pygments_lexer": "ipython3",
   "version": "3.8.8"
  }
 },
 "nbformat": 4,
 "nbformat_minor": 5
}
