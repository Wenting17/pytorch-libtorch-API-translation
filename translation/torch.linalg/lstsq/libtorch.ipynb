{
 "cells": [
  {
   "cell_type": "code",
   "execution_count": 1,
   "id": "e9e452b3",
   "metadata": {},
   "outputs": [],
   "source": [
    "#pragma cling add_include_path(\"../../libtorch/include\")\n",
    "#pragma cling add_include_path(\"../../libtorch/include/torch/csrc/api/include\")\n",
    "#pragma cling add_library_path(\"../../libtorch/lib\")\n",
    "#pragma cling load(\"libtorch\")"
   ]
  },
  {
   "cell_type": "code",
   "execution_count": 2,
   "id": "6d9a240e",
   "metadata": {},
   "outputs": [],
   "source": [
    "#include <iostream>\n",
    "#include <cstddef>\n",
    "#include <torch/torch.h>\n",
    "#include <tuple>\n",
    "#include <c10/util/Optional.h>"
   ]
  },
  {
   "cell_type": "code",
   "execution_count": null,
   "id": "fbd7d5d6",
   "metadata": {},
   "outputs": [],
   "source": []
  },
  {
   "cell_type": "markdown",
   "id": "3c6a730f",
   "metadata": {},
   "source": [
    "## step 1: create mock data x and y"
   ]
  },
  {
   "cell_type": "code",
   "execution_count": 3,
   "id": "10fe0277",
   "metadata": {},
   "outputs": [],
   "source": [
    "std::pair<torch::Tensor, torch::Tensor> synthetic_data(torch::Tensor true_w, float true_b, int64_t num_samples) {\n",
    "\n",
    "    auto X = torch::normal(0.0, 1.0, {num_samples, true_w.size(0)});\n",
    "    auto y = torch::matmul(X, true_w) + true_b;\n",
    "    y += torch::normal(0.0, 0.01, y.sizes());\n",
    "    y = torch::reshape(y, {-1, 1});\n",
    "\n",
    "    //return torch::cat({X, y}, 1);\n",
    "    return {X, y};\n",
    " }"
   ]
  },
  {
   "cell_type": "code",
   "execution_count": 4,
   "id": "be60d3a5",
   "metadata": {},
   "outputs": [
    {
     "name": "stdout",
     "output_type": "stream",
     "text": [
      "2\n"
     ]
    }
   ],
   "source": [
    "auto options = torch::TensorOptions().dtype(torch::kFloat).device(torch::kCPU);\n",
    "\n",
    "// Generating the Dataset\n",
    "torch::Tensor true_w = torch::tensor({2.0, -3.4}, options);\n",
    "std::cout << true_w.size(0) << std::endl;\n",
    "float true_b = 4.2;\n",
    "int64_t num_samples = 20;\n",
    "\n",
    "std::pair<torch::Tensor, torch::Tensor> data_and_label = synthetic_data(true_w, true_b, num_samples);"
   ]
  },
  {
   "cell_type": "code",
   "execution_count": 5,
   "id": "49b3043b",
   "metadata": {},
   "outputs": [
    {
     "name": "stdout",
     "output_type": "stream",
     "text": [
      "-0.9821 -2.5545\n",
      " 1.2846 -0.1736\n",
      "-1.4975  0.3841\n",
      " 0.1357 -1.9922\n",
      "-1.0394 -0.6618\n",
      "-1.0471  1.6299\n",
      "-0.3299 -0.7295\n",
      " 1.5741  0.6600\n",
      " 0.8150  0.5050\n",
      " 0.9202  0.7417\n",
      "-0.1508 -0.0004\n",
      "-0.9096 -1.0994\n",
      "-1.5390  0.6146\n",
      "-1.0026  0.2359\n",
      "-1.1073  0.2167\n",
      "-0.3060  0.9002\n",
      " 0.3151 -0.9156\n",
      "-1.1112 -0.3220\n",
      " 0.4563  1.4228\n",
      "-0.5810  0.2224\n",
      "[ CPUFloatType{20,2} ]\n",
      "-0.9821 -2.5545\n",
      " 1.2846 -0.1736\n",
      "-1.4975  0.3841\n",
      " 0.1357 -1.9922\n",
      "-1.0394 -0.6618\n",
      "-1.0471  1.6299\n",
      "-0.3299 -0.7295\n",
      " 1.5741  0.6600\n",
      " 0.8150  0.5050\n",
      " 0.9202  0.7417\n",
      "-0.1508 -0.0004\n",
      "-0.9096 -1.0994\n",
      "-1.5390  0.6146\n",
      "-1.0026  0.2359\n",
      "-1.1073  0.2167\n",
      "-0.3060  0.9002\n",
      " 0.3151 -0.9156\n",
      "-1.1112 -0.3220\n",
      " 0.4563  1.4228\n",
      "-0.5810  0.2224\n",
      "[ CPUFloatType{20,2} ]\n"
     ]
    }
   ],
   "source": [
    "torch::Tensor X = data_and_label.first;\n",
    "std::cout << X << std::endl;\n",
    "\n",
    "torch::Tensor y = data_and_label.second;\n",
    "std::cout << X << std::endl;"
   ]
  },
  {
   "cell_type": "code",
   "execution_count": 6,
   "id": "dc7aa3eb",
   "metadata": {},
   "outputs": [
    {
     "name": "stdout",
     "output_type": "stream",
     "text": [
      " 1\n",
      " 1\n",
      " 1\n",
      " 1\n",
      " 1\n",
      " 1\n",
      " 1\n",
      " 1\n",
      " 1\n",
      " 1\n",
      " 1\n",
      " 1\n",
      " 1\n",
      " 1\n",
      " 1\n",
      " 1\n",
      " 1\n",
      " 1\n",
      " 1\n",
      " 1\n",
      "[ CPUFloatType{20,1} ]"
     ]
    }
   ],
   "source": [
    "std::cout << torch::ones({X.size(0),1});"
   ]
  },
  {
   "cell_type": "code",
   "execution_count": 7,
   "id": "49567887",
   "metadata": {},
   "outputs": [],
   "source": [
    "torch::Tensor X_with_one = torch::cat({torch::ones({X.size(0),1}), X},1);"
   ]
  },
  {
   "cell_type": "code",
   "execution_count": 8,
   "id": "35570a89",
   "metadata": {},
   "outputs": [
    {
     "name": "stdout",
     "output_type": "stream",
     "text": [
      " 1.0000 -0.9821 -2.5545\n",
      " 1.0000  1.2846 -0.1736\n",
      " 1.0000 -1.4975  0.3841\n",
      " 1.0000  0.1357 -1.9922\n",
      " 1.0000 -1.0394 -0.6618\n",
      " 1.0000 -1.0471  1.6299\n",
      " 1.0000 -0.3299 -0.7295\n",
      " 1.0000  1.5741  0.6600\n",
      " 1.0000  0.8150  0.5050\n",
      " 1.0000  0.9202  0.7417\n",
      " 1.0000 -0.1508 -0.0004\n",
      " 1.0000 -0.9096 -1.0994\n",
      " 1.0000 -1.5390  0.6146\n",
      " 1.0000 -1.0026  0.2359\n",
      " 1.0000 -1.1073  0.2167\n",
      " 1.0000 -0.3060  0.9002\n",
      " 1.0000  0.3151 -0.9156\n",
      " 1.0000 -1.1112 -0.3220\n",
      " 1.0000  0.4563  1.4228\n",
      " 1.0000 -0.5810  0.2224\n",
      "[ CPUFloatType{20,3} ]\n"
     ]
    }
   ],
   "source": [
    "std::cout << X_with_one << std::endl;"
   ]
  },
  {
   "cell_type": "code",
   "execution_count": 9,
   "id": "d18e3615",
   "metadata": {},
   "outputs": [],
   "source": [
    "//torch::Tensor a = torch::randn({3,3});\n",
    "//std::cout << torch::linalg::det(a);"
   ]
  },
  {
   "cell_type": "markdown",
   "id": "d5ea0a6a",
   "metadata": {},
   "source": [
    "## step2 use torch::linalg::lstsq to get regression coefficients"
   ]
  },
  {
   "cell_type": "code",
   "execution_count": 10,
   "id": "72ac06bb",
   "metadata": {},
   "outputs": [],
   "source": [
    "std::tuple<torch::Tensor,torch::Tensor,torch::Tensor,torch::Tensor> output = torch::linalg::lstsq(X_with_one,y, c10::nullopt, c10::nullopt);"
   ]
  },
  {
   "cell_type": "code",
   "execution_count": 11,
   "id": "ac251caf",
   "metadata": {},
   "outputs": [
    {
     "name": "stdout",
     "output_type": "stream",
     "text": [
      " 4.1999\n",
      " 2.0007\n",
      "-3.4013\n",
      "[ CPUFloatType{3,1} ]\n"
     ]
    }
   ],
   "source": [
    "torch::Tensor intercepts_and_coefficients = std::get<0>(output);\n",
    "std::cout << intercepts_and_coefficients << std::endl;"
   ]
  },
  {
   "cell_type": "code",
   "execution_count": 12,
   "id": "799bb4ed",
   "metadata": {},
   "outputs": [],
   "source": [
    "torch::Tensor y_pred_ts = X_with_one.matmul(intercepts_and_coefficients);"
   ]
  },
  {
   "cell_type": "code",
   "execution_count": 13,
   "id": "52b2e649",
   "metadata": {},
   "outputs": [
    {
     "name": "stdout",
     "output_type": "stream",
     "text": [
      " 10.9235\n",
      "  7.3608\n",
      " -0.1028\n",
      " 11.2476\n",
      "  4.3716\n",
      " -3.4388\n",
      "  6.0210\n",
      "  5.1044\n",
      "  4.1128\n",
      "  3.5183\n",
      "  3.8997\n",
      "  6.1194\n",
      " -0.9699\n",
      "  1.3916\n",
      "  1.2473\n",
      "  0.5260\n",
      "  7.9445\n",
      "  3.0718\n",
      "  0.2733\n",
      "  2.2811\n",
      "[ CPUFloatType{20,1} ]\n"
     ]
    }
   ],
   "source": [
    "std::cout << y_pred_ts << std::endl;"
   ]
  },
  {
   "cell_type": "code",
   "execution_count": 14,
   "id": "ae052017",
   "metadata": {},
   "outputs": [
    {
     "name": "stdout",
     "output_type": "stream",
     "text": [
      "0.01 *\n",
      " 0.9013\n",
      " -0.8118\n",
      " -0.4370\n",
      "  0.6343\n",
      "  0.5330\n",
      "  1.0675\n",
      "  0.0598\n",
      " -0.5617\n",
      "  1.7832\n",
      " -0.2761\n",
      " -1.4416\n",
      " -1.2063\n",
      " -0.0428\n",
      "  1.7338\n",
      " -2.2344\n",
      "  1.2711\n",
      "  0.2386\n",
      " -0.3345\n",
      " -0.1154\n",
      " -0.7614\n",
      "[ CPUFloatType{20,1} ]\n"
     ]
    }
   ],
   "source": [
    "torch::Tensor residuals = y - y_pred_ts;\n",
    "std::cout << residuals << std::endl;"
   ]
  },
  {
   "cell_type": "markdown",
   "id": "2ae2c74e",
   "metadata": {},
   "source": [
    "## appendix: understand c10::optional"
   ]
  },
  {
   "cell_type": "code",
   "execution_count": 16,
   "id": "bd1c12df",
   "metadata": {},
   "outputs": [
    {
     "name": "stdout",
     "output_type": "stream",
     "text": [
      "0\n",
      "1\n",
      "-1.1\n"
     ]
    }
   ],
   "source": [
    "c10::optional<double> a = c10::nullopt;\n",
    "std::cout << a.has_value() << std::endl;\n",
    "\n",
    "c10::optional<double> b(-1.1);\n",
    "std::cout << b.has_value() << std::endl;;\n",
    "std::cout << b.value() << std::endl;"
   ]
  },
  {
   "cell_type": "code",
   "execution_count": null,
   "id": "f2d22011",
   "metadata": {},
   "outputs": [],
   "source": []
  }
 ],
 "metadata": {
  "kernelspec": {
   "display_name": "C++17",
   "language": "C++17",
   "name": "xcpp17"
  },
  "language_info": {
   "codemirror_mode": "text/x-c++src",
   "file_extension": ".cpp",
   "mimetype": "text/x-c++src",
   "name": "c++",
   "version": "17"
  }
 },
 "nbformat": 4,
 "nbformat_minor": 5
}
