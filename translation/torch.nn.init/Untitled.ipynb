{
 "cells": [
  {
   "cell_type": "code",
   "execution_count": 1,
   "id": "7fe73414",
   "metadata": {},
   "outputs": [],
   "source": [
    "#include <iostream>\n",
    "#include <filesystem>"
   ]
  },
  {
   "cell_type": "code",
   "execution_count": 2,
   "id": "46024308",
   "metadata": {},
   "outputs": [
    {
     "name": "stdout",
     "output_type": "stream",
     "text": [
      "hello world\n"
     ]
    }
   ],
   "source": [
    "std::cout << \"hello world\" << std::endl;"
   ]
  },
  {
   "cell_type": "code",
   "execution_count": 3,
   "id": "fe0ab740",
   "metadata": {},
   "outputs": [],
   "source": [
    "namespace fs = std::filesystem;"
   ]
  },
  {
   "cell_type": "code",
   "execution_count": 4,
   "id": "c17cf689",
   "metadata": {},
   "outputs": [
    {
     "name": "stdout",
     "output_type": "stream",
     "text": [
      "current path is: \"/home/sz/Documents/workspace/third_party/libtorch-API-doc/doc/torch.nn.init\"\n"
     ]
    }
   ],
   "source": [
    "std::cout << \"current path is: \" << fs::current_path() << std::endl;"
   ]
  },
  {
   "cell_type": "code",
   "execution_count": 5,
   "id": "f52dccbc",
   "metadata": {},
   "outputs": [
    {
     "name": "stdout",
     "output_type": "stream",
     "text": [
      "current path is: \"/home/sz/Documents/workspace/third_party/libtorch-API-doc/doc\"\n"
     ]
    }
   ],
   "source": [
    "std::cout << \"current path is: \" << fs::current_path().parent_path() << std::endl;"
   ]
  },
  {
   "cell_type": "code",
   "execution_count": 6,
   "id": "dec7d9f0",
   "metadata": {},
   "outputs": [
    {
     "data": {
      "text/plain": [
       "\"/home/sz/Documents/workspace/third_party/libtorch-API-doc/doc\""
      ]
     },
     "execution_count": 6,
     "metadata": {},
     "output_type": "execute_result"
    }
   ],
   "source": [
    "fs::current_path().parent_path().string()"
   ]
  },
  {
   "cell_type": "code",
   "execution_count": null,
   "id": "63ea2238",
   "metadata": {},
   "outputs": [],
   "source": []
  },
  {
   "cell_type": "code",
   "execution_count": null,
   "id": "21169a42",
   "metadata": {},
   "outputs": [],
   "source": []
  }
 ],
 "metadata": {
  "kernelspec": {
   "display_name": "C++17",
   "language": "C++17",
   "name": "xcpp17"
  },
  "language_info": {
   "codemirror_mode": "text/x-c++src",
   "file_extension": ".cpp",
   "mimetype": "text/x-c++src",
   "name": "c++",
   "version": "17"
  }
 },
 "nbformat": 4,
 "nbformat_minor": 5
}
