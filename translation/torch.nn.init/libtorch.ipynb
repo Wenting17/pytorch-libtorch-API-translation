{
 "cells": [
  {
   "cell_type": "code",
   "execution_count": 1,
   "id": "3bcffd96",
   "metadata": {},
   "outputs": [],
   "source": [
    "#pragma cling add_include_path(\"../libtorch/include\")\n",
    "#pragma cling add_include_path(\"../libtorch/include/torch/csrc/api/include\")\n",
    "#pragma cling add_library_path(\"../libtorch/lib\")\n",
    "#pragma cling load(\"libtorch\")"
   ]
  },
  {
   "cell_type": "code",
   "execution_count": 2,
   "id": "80f70efb",
   "metadata": {},
   "outputs": [],
   "source": [
    "#include <iostream>\n",
    "#include <torch/torch.h>\n",
    "namespace nn = torch::nn;"
   ]
  },
  {
   "cell_type": "code",
   "execution_count": 3,
   "id": "f70bb931",
   "metadata": {},
   "outputs": [
    {
     "name": "stdout",
     "output_type": "stream",
     "text": [
      "before param init: \n",
      " 4.4647e+30  2.7655e+29  8.4493e+08\n",
      " 4.7429e+30  2.1261e+20  1.1308e+24\n",
      "[ CPUFloatType{2,3} ]\n"
     ]
    }
   ],
   "source": [
    "torch::Tensor w = torch::empty({2,3});\n",
    "std::cout <<\"before param init: \\n\" << w << std::endl;"
   ]
  },
  {
   "cell_type": "markdown",
   "id": "90d8f595",
   "metadata": {},
   "source": [
    "# 1.1 constant init"
   ]
  },
  {
   "cell_type": "code",
   "execution_count": 5,
   "id": "7e20dc26",
   "metadata": {},
   "outputs": [
    {
     "name": "stdout",
     "output_type": "stream",
     "text": [
      "after param init: \n",
      " 0.3000  0.3000  0.3000\n",
      " 0.3000  0.3000  0.3000\n",
      "[ CPUFloatType{2,3} ]\n"
     ]
    }
   ],
   "source": [
    "nn::init::constant_(w, 0.3);\n",
    "std::cout <<\"after param init: \\n\" << w << std::endl;"
   ]
  },
  {
   "cell_type": "markdown",
   "id": "83199afc",
   "metadata": {},
   "source": [
    "# 1.2 ones init"
   ]
  },
  {
   "cell_type": "code",
   "execution_count": 7,
   "id": "322bc3cc",
   "metadata": {},
   "outputs": [
    {
     "name": "stdout",
     "output_type": "stream",
     "text": [
      "after param init: \n",
      " 1  1  1\n",
      " 1  1  1\n",
      "[ CPUFloatType{2,3} ]\n"
     ]
    }
   ],
   "source": [
    "nn::init::ones_(w);\n",
    "std::cout <<\"after param init: \\n\" << w << std::endl;"
   ]
  },
  {
   "cell_type": "markdown",
   "id": "827f6215",
   "metadata": {},
   "source": [
    "# 1.3 zeros init"
   ]
  },
  {
   "cell_type": "code",
   "execution_count": 11,
   "id": "f6456dc6",
   "metadata": {},
   "outputs": [
    {
     "name": "stdout",
     "output_type": "stream",
     "text": [
      "after param init: \n",
      " 0  0  0\n",
      " 0  0  0\n",
      "[ CPUFloatType{2,3} ]\n"
     ]
    }
   ],
   "source": [
    "nn::init::zeros_(w);\n",
    "std::cout <<\"after param init: \\n\" << w << std::endl;"
   ]
  },
  {
   "cell_type": "markdown",
   "id": "fe5b3f15",
   "metadata": {},
   "source": [
    "# 1.4 uniform init"
   ]
  },
  {
   "cell_type": "code",
   "execution_count": 8,
   "id": "9ac36fef",
   "metadata": {},
   "outputs": [
    {
     "name": "stdout",
     "output_type": "stream",
     "text": [
      "after param init: \n",
      " 0.0027  0.1712  0.1872\n",
      " 0.1886  0.1107  0.0531\n",
      "[ CPUFloatType{2,3} ]\n"
     ]
    }
   ],
   "source": [
    "nn::init::uniform_(w, /*a=*/0.0, /*b=*/0.2);\n",
    "std::cout <<\"after param init: \\n\" << w << std::endl;"
   ]
  },
  {
   "cell_type": "markdown",
   "id": "deccb786",
   "metadata": {},
   "source": [
    "# 1.5 normal init"
   ]
  },
  {
   "cell_type": "code",
   "execution_count": 10,
   "id": "a0ea9832",
   "metadata": {},
   "outputs": [
    {
     "name": "stdout",
     "output_type": "stream",
     "text": [
      "after param init: \n",
      " 0.6502  0.3112  0.7629\n",
      "-1.0497 -0.7935  0.1064\n",
      "[ CPUFloatType{2,3} ]\n"
     ]
    }
   ],
   "source": [
    "nn::init::normal_(w, /*mean=*/0.0, /*std=*/1);\n",
    "std::cout <<\"after param init: \\n\" << w << std::endl;"
   ]
  },
  {
   "cell_type": "code",
   "execution_count": null,
   "id": "d236ad76",
   "metadata": {},
   "outputs": [],
   "source": []
  }
 ],
 "metadata": {
  "kernelspec": {
   "display_name": "C++14",
   "language": "C++14",
   "name": "xcpp14"
  },
  "language_info": {
   "codemirror_mode": "text/x-c++src",
   "file_extension": ".cpp",
   "mimetype": "text/x-c++src",
   "name": "c++",
   "version": "14"
  }
 },
 "nbformat": 4,
 "nbformat_minor": 5
}
