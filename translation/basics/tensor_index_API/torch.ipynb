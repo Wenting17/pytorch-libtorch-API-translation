{
 "cells": [
  {
   "cell_type": "code",
   "execution_count": 1,
   "id": "0aa53c2a",
   "metadata": {},
   "outputs": [],
   "source": [
    "import torch\n",
    "import torch.nn as nn"
   ]
  },
  {
   "cell_type": "code",
   "execution_count": 2,
   "id": "dca3073e",
   "metadata": {},
   "outputs": [
    {
     "name": "stdout",
     "output_type": "stream",
     "text": [
      "tensor([[0.2693, 0.5362, 0.2260, 0.8407],\n",
      "        [0.0762, 0.0125, 0.7928, 0.1319],\n",
      "        [0.3522, 0.6191, 0.7726, 0.3371]])\n"
     ]
    }
   ],
   "source": [
    "a = torch.rand((3,4))\n",
    "print(a)"
   ]
  },
  {
   "cell_type": "markdown",
   "id": "bc0ce2f3",
   "metadata": {},
   "source": [
    "# 1 SLICING AND EXTRACTING PARTS FROM TENSORS"
   ]
  },
  {
   "cell_type": "markdown",
   "id": "3ac47ced",
   "metadata": {},
   "source": [
    "## a extract a single element in tensor"
   ]
  },
  {
   "cell_type": "code",
   "execution_count": 3,
   "id": "f6b4063a",
   "metadata": {},
   "outputs": [
    {
     "name": "stdout",
     "output_type": "stream",
     "text": [
      "\n",
      "tensor[0,2] as tensor:\n",
      "\n"
     ]
    },
    {
     "data": {
      "text/plain": [
       "tensor(0.2260)"
      ]
     },
     "execution_count": 3,
     "metadata": {},
     "output_type": "execute_result"
    }
   ],
   "source": [
    "print()\n",
    "print(\"tensor[0,2] as tensor:\\n\")\n",
    "a[0,2]"
   ]
  },
  {
   "cell_type": "code",
   "execution_count": 4,
   "id": "617a2693",
   "metadata": {},
   "outputs": [
    {
     "name": "stdout",
     "output_type": "stream",
     "text": [
      "tensor[0,2] as value:\n",
      "\n"
     ]
    },
    {
     "data": {
      "text/plain": [
       "0.2259564995765686"
      ]
     },
     "execution_count": 4,
     "metadata": {},
     "output_type": "execute_result"
    }
   ],
   "source": [
    "print(\"tensor[0,2] as value:\\n\")\n",
    "a[0,2].item()"
   ]
  },
  {
   "cell_type": "markdown",
   "id": "a2b1da5e",
   "metadata": {},
   "source": [
    "## b slice a tensor along a dimension at a given index"
   ]
  },
  {
   "cell_type": "code",
   "execution_count": 5,
   "id": "37299c53",
   "metadata": {},
   "outputs": [],
   "source": [
    "b = a[:,1]"
   ]
  },
  {
   "cell_type": "code",
   "execution_count": 6,
   "id": "c05bd34a",
   "metadata": {},
   "outputs": [
    {
     "data": {
      "text/plain": [
       "tensor([0.5362, 0.0125, 0.6191])"
      ]
     },
     "execution_count": 6,
     "metadata": {},
     "output_type": "execute_result"
    }
   ],
   "source": [
    "b"
   ]
  },
  {
   "cell_type": "code",
   "execution_count": 7,
   "id": "588459a9",
   "metadata": {},
   "outputs": [
    {
     "data": {
      "text/plain": [
       "torch.Size([3])"
      ]
     },
     "execution_count": 7,
     "metadata": {},
     "output_type": "execute_result"
    }
   ],
   "source": [
    "b.size()"
   ]
  },
  {
   "cell_type": "markdown",
   "id": "068e82fb",
   "metadata": {},
   "source": [
    "slice a tensor along a dimesion at given indices from a start-index up to - but not including - an end-index using a given step size"
   ]
  },
  {
   "cell_type": "code",
   "execution_count": 8,
   "id": "099d0f49",
   "metadata": {},
   "outputs": [],
   "source": [
    "c = a[:2, :]"
   ]
  },
  {
   "cell_type": "code",
   "execution_count": 9,
   "id": "d6d9f70d",
   "metadata": {},
   "outputs": [
    {
     "data": {
      "text/plain": [
       "tensor([[0.2693, 0.5362, 0.2260, 0.8407],\n",
       "        [0.0762, 0.0125, 0.7928, 0.1319]])"
      ]
     },
     "execution_count": 9,
     "metadata": {},
     "output_type": "execute_result"
    }
   ],
   "source": [
    "c"
   ]
  },
  {
   "cell_type": "code",
   "execution_count": 10,
   "id": "ed45a9e8",
   "metadata": {},
   "outputs": [
    {
     "data": {
      "text/plain": [
       "tensor([0.5362, 0.0125])"
      ]
     },
     "execution_count": 10,
     "metadata": {},
     "output_type": "execute_result"
    }
   ],
   "source": [
    "a[:2, 1]"
   ]
  },
  {
   "cell_type": "code",
   "execution_count": 11,
   "id": "ba347d67",
   "metadata": {},
   "outputs": [
    {
     "data": {
      "text/plain": [
       "tensor([[0.5362, 0.2260, 0.8407],\n",
       "        [0.0125, 0.7928, 0.1319]])"
      ]
     },
     "execution_count": 11,
     "metadata": {},
     "output_type": "execute_result"
    }
   ],
   "source": [
    "a[:2, 1:]"
   ]
  },
  {
   "cell_type": "code",
   "execution_count": 12,
   "id": "13916b17",
   "metadata": {},
   "outputs": [
    {
     "data": {
      "text/plain": [
       "tensor([[0.5362, 0.2260, 0.8407],\n",
       "        [0.0125, 0.7928, 0.1319],\n",
       "        [0.6191, 0.7726, 0.3371]])"
      ]
     },
     "execution_count": 12,
     "metadata": {},
     "output_type": "execute_result"
    }
   ],
   "source": [
    "a[..., 1:]"
   ]
  },
  {
   "cell_type": "markdown",
   "id": "d0bb5f26",
   "metadata": {},
   "source": [
    "## c Select specific columns of each row in a torch Tensor"
   ]
  },
  {
   "cell_type": "code",
   "execution_count": 40,
   "id": "391097b7",
   "metadata": {},
   "outputs": [
    {
     "name": "stdout",
     "output_type": "stream",
     "text": [
      "tensor([[ 0.,  1.,  2.,  3.],\n",
      "        [ 4.,  5.,  6.,  7.],\n",
      "        [ 8.,  9., 10., 11.]])\n"
     ]
    }
   ],
   "source": [
    "x = torch.arange(12).reshape(3, 4) * 1.0\n",
    "print(x)"
   ]
  },
  {
   "cell_type": "code",
   "execution_count": 49,
   "id": "d1077da4",
   "metadata": {},
   "outputs": [
    {
     "name": "stdout",
     "output_type": "stream",
     "text": [
      "tensor([1, 0, 3])\n",
      "torch.Size([3])\n",
      "torch.Size([3, 1])\n"
     ]
    }
   ],
   "source": [
    "position = torch.tensor([1,0,3])\n",
    "print(position)\n",
    "print(position.shape)\n",
    "print(position.view(-1,1).shape)"
   ]
  },
  {
   "cell_type": "code",
   "execution_count": 47,
   "id": "d3ecc219",
   "metadata": {},
   "outputs": [
    {
     "name": "stdout",
     "output_type": "stream",
     "text": [
      "tensor([[ 1.],\n",
      "        [ 4.],\n",
      "        [11.]])\n",
      "torch.Size([3, 1])\n"
     ]
    }
   ],
   "source": [
    "selected_slement = x.gather(1, position.view(-1,1))\n",
    "print(selected_slement)\n",
    "print(selected_slement.shape)"
   ]
  },
  {
   "cell_type": "markdown",
   "id": "2b810637",
   "metadata": {},
   "source": [
    "# 2 setter"
   ]
  },
  {
   "cell_type": "code",
   "execution_count": 13,
   "id": "3e0db811",
   "metadata": {},
   "outputs": [
    {
     "name": "stdout",
     "output_type": "stream",
     "text": [
      "tensor([[0.2693, 0.5362, 0.2260, 0.8407],\n",
      "        [0.0762, 0.0125, 0.7928, 0.1319],\n",
      "        [0.3522, 0.6191, 0.7726, 0.3371]])\n",
      "-----------------\n",
      "tensor([[0.2693, 0.5362, 0.2260, 0.8407],\n",
      "        [0.0762, 0.0125, 1.1000, 0.1319],\n",
      "        [0.3522, 0.6191, 0.7726, 0.3371]])\n"
     ]
    }
   ],
   "source": [
    "print(a)\n",
    "\n",
    "a[1,2] = 1.1\n",
    "print(\"-----------------\")\n",
    "print(a)"
   ]
  },
  {
   "cell_type": "code",
   "execution_count": 14,
   "id": "db9c8dfc",
   "metadata": {},
   "outputs": [
    {
     "name": "stdout",
     "output_type": "stream",
     "text": [
      "tensor([[0.2693, 0.5362, 0.2260, 0.8407],\n",
      "        [0.0762, 0.0125, 1.1000, 0.1319],\n",
      "        [0.3522, 0.6191, 0.7726, 0.3371]])\n",
      "-----------------\n",
      "tensor([[0.2693, 1.1000, 0.2260, 0.8407],\n",
      "        [0.0762, 1.1000, 1.1000, 0.1319],\n",
      "        [0.3522, 1.1000, 0.7726, 0.3371]])\n"
     ]
    }
   ],
   "source": [
    "print(a)\n",
    "\n",
    "a[:,1] = 1.1\n",
    "print(\"-----------------\")\n",
    "print(a)"
   ]
  },
  {
   "cell_type": "code",
   "execution_count": 17,
   "id": "f0c14af1",
   "metadata": {},
   "outputs": [
    {
     "name": "stdout",
     "output_type": "stream",
     "text": [
      "tensor([[1., 1., 1.],\n",
      "        [1., 1., 1.]])\n"
     ]
    }
   ],
   "source": [
    "b = torch.ones((2,3))\n",
    "print(b)"
   ]
  },
  {
   "cell_type": "code",
   "execution_count": 18,
   "id": "481ac28e",
   "metadata": {},
   "outputs": [
    {
     "name": "stdout",
     "output_type": "stream",
     "text": [
      "tensor([[0.2693, 1.0000, 1.0000, 1.0000],\n",
      "        [0.0762, 1.0000, 1.0000, 1.0000],\n",
      "        [0.3522, 1.1000, 0.7726, 0.3371]])\n"
     ]
    }
   ],
   "source": [
    "a[:2,1:] = b\n",
    "print(a)"
   ]
  },
  {
   "cell_type": "markdown",
   "id": "64af9edf",
   "metadata": {},
   "source": [
    "## checkout deep copy and shallow copy in pytorch"
   ]
  },
  {
   "cell_type": "code",
   "execution_count": 20,
   "id": "6f0ae4c0",
   "metadata": {},
   "outputs": [
    {
     "name": "stdout",
     "output_type": "stream",
     "text": [
      "tensor([[0.2693, 1.0000, 1.0000, 1.0000],\n",
      "        [0.0762, 1.0000, 1.0000, 1.0000],\n",
      "        [0.3522, 1.1000, 0.7726, 0.3371]])\n"
     ]
    }
   ],
   "source": [
    "print(a)"
   ]
  },
  {
   "cell_type": "code",
   "execution_count": 21,
   "id": "1f8ec897",
   "metadata": {},
   "outputs": [
    {
     "name": "stdout",
     "output_type": "stream",
     "text": [
      "tensor([[1., 1., 1.],\n",
      "        [1., 1., 1.]])\n"
     ]
    }
   ],
   "source": [
    "b = a[:2,1:]\n",
    "print(b)"
   ]
  },
  {
   "cell_type": "code",
   "execution_count": 24,
   "id": "fd4c02c0",
   "metadata": {},
   "outputs": [
    {
     "name": "stdout",
     "output_type": "stream",
     "text": [
      "tensor([[ 1., 22.,  1.],\n",
      "        [ 1.,  1.,  1.]])\n"
     ]
    }
   ],
   "source": [
    "b[0,1] = 22\n",
    "print(b)"
   ]
  },
  {
   "cell_type": "code",
   "execution_count": 25,
   "id": "a5415f90",
   "metadata": {},
   "outputs": [
    {
     "name": "stdout",
     "output_type": "stream",
     "text": [
      "tensor([[ 0.2693,  1.0000, 22.0000,  1.0000],\n",
      "        [ 0.0762,  1.0000,  1.0000,  1.0000],\n",
      "        [ 0.3522,  1.1000,  0.7726,  0.3371]])\n"
     ]
    }
   ],
   "source": [
    "print(a)"
   ]
  },
  {
   "cell_type": "code",
   "execution_count": 32,
   "id": "719ab3ed",
   "metadata": {},
   "outputs": [],
   "source": [
    "def clone_vs_deepcopy():\n",
    "    import copy\n",
    "    x = torch.tensor([1,2,3.0])\n",
    "    y = x\n",
    "    x_clone = x.clone()\n",
    "    x_deep_clone = copy.deepcopy(x)\n",
    "    print(\"raw x = {}\".format(x))\n",
    "    \n",
    "    x.mul_(-1)\n",
    "    print(\"-------------------\")\n",
    "    print(\"x = {}\".format(x))\n",
    "    print(\"y = {}\".format(y))\n",
    "    print(\"x_clone = {}\".format(x_clone))\n",
    "    print(\"x_deep_clone = {}\".format(x_deep_clone))\n",
    "     "
   ]
  },
  {
   "cell_type": "code",
   "execution_count": 33,
   "id": "45fa009e",
   "metadata": {},
   "outputs": [
    {
     "name": "stdout",
     "output_type": "stream",
     "text": [
      "raw x = tensor([1., 2., 3.])\n",
      "-------------------\n",
      "x = tensor([-1., -2., -3.])\n",
      "y = tensor([-1., -2., -3.])\n",
      "x_clone = tensor([1., 2., 3.])\n",
      "x_deep_clone = tensor([1., 2., 3.])\n"
     ]
    }
   ],
   "source": [
    "clone_vs_deepcopy()"
   ]
  },
  {
   "cell_type": "code",
   "execution_count": 34,
   "id": "20661d05",
   "metadata": {},
   "outputs": [
    {
     "name": "stdout",
     "output_type": "stream",
     "text": [
      "tensor([[ 0.2693,  1.0000, 22.0000,  1.0000],\n",
      "        [ 0.0762,  1.0000,  1.0000,  1.0000],\n",
      "        [ 0.3522,  1.1000,  0.7726,  0.3371]])\n"
     ]
    }
   ],
   "source": [
    "print(a)"
   ]
  },
  {
   "cell_type": "code",
   "execution_count": 37,
   "id": "a579cd25",
   "metadata": {},
   "outputs": [
    {
     "name": "stdout",
     "output_type": "stream",
     "text": [
      "tensor([[ 1., 22.,  1.],\n",
      "        [ 1.,  1.,  1.]])\n"
     ]
    }
   ],
   "source": [
    "c = a[:2,1:].clone()\n",
    "print(c)"
   ]
  },
  {
   "cell_type": "code",
   "execution_count": 38,
   "id": "adf831ad",
   "metadata": {},
   "outputs": [
    {
     "name": "stdout",
     "output_type": "stream",
     "text": [
      "tensor([[21., 22.,  1.],\n",
      "        [ 1.,  1.,  1.]])\n"
     ]
    }
   ],
   "source": [
    "c[0, 0] = 21\n",
    "print(c)"
   ]
  },
  {
   "cell_type": "code",
   "execution_count": 39,
   "id": "f73c948a",
   "metadata": {},
   "outputs": [
    {
     "name": "stdout",
     "output_type": "stream",
     "text": [
      "tensor([[ 0.2693,  1.0000, 22.0000,  1.0000],\n",
      "        [ 0.0762,  1.0000,  1.0000,  1.0000],\n",
      "        [ 0.3522,  1.1000,  0.7726,  0.3371]])\n"
     ]
    }
   ],
   "source": [
    "print(a)"
   ]
  },
  {
   "cell_type": "code",
   "execution_count": null,
   "id": "e46b50d6",
   "metadata": {},
   "outputs": [],
   "source": []
  }
 ],
 "metadata": {
  "kernelspec": {
   "display_name": "Python 3 (ipykernel)",
   "language": "python",
   "name": "python3"
  },
  "language_info": {
   "codemirror_mode": {
    "name": "ipython",
    "version": 3
   },
   "file_extension": ".py",
   "mimetype": "text/x-python",
   "name": "python",
   "nbconvert_exporter": "python",
   "pygments_lexer": "ipython3",
   "version": "3.10.5"
  }
 },
 "nbformat": 4,
 "nbformat_minor": 5
}
