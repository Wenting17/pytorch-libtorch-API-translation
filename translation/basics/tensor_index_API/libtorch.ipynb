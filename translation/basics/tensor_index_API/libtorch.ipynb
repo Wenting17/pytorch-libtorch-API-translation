{
 "cells": [
  {
   "cell_type": "code",
   "execution_count": 1,
   "id": "abada465",
   "metadata": {},
   "outputs": [],
   "source": [
    "#pragma cling add_include_path(\"../../libtorch/include\")\n",
    "#pragma cling add_include_path(\"../../libtorch/include/torch/csrc/api/include\")\n",
    "#pragma cling add_library_path(\"../../libtorch/lib\")\n",
    "#pragma cling load(\"libtorch\")"
   ]
  },
  {
   "cell_type": "code",
   "execution_count": 2,
   "id": "0bfe0ddc",
   "metadata": {},
   "outputs": [],
   "source": [
    "#include <iostream>\n",
    "#include <vector>\n",
    "#include <torch/torch.h>"
   ]
  },
  {
   "cell_type": "code",
   "execution_count": 3,
   "id": "3d62ea94",
   "metadata": {},
   "outputs": [
    {
     "name": "stdout",
     "output_type": "stream",
     "text": [
      " 0.5059  0.6663  0.7675  0.1553\n",
      " 0.4099  0.6410  0.6247  0.2594\n",
      " 0.9897  0.0876  0.2987  0.0506\n",
      "[ CPUFloatType{3,4} ]\n"
     ]
    }
   ],
   "source": [
    "torch::Tensor a = torch::rand({3,4}, torch::kFloat32);\n",
    "std::cout << a << std:: endl; "
   ]
  },
  {
   "cell_type": "markdown",
   "id": "ec9d5a92",
   "metadata": {},
   "source": [
    "https://pytorch.org/cppdocs/notes/tensor_indexing.html"
   ]
  },
  {
   "cell_type": "markdown",
   "id": "34cb1d97",
   "metadata": {},
   "source": [
    "# 1  SLICING AND EXTRACTING PARTS FROM TENSORS "
   ]
  },
  {
   "cell_type": "code",
   "execution_count": 4,
   "id": "cf16af0c",
   "metadata": {},
   "outputs": [
    {
     "name": "stdout",
     "output_type": "stream",
     "text": [
      "SLICING AND EXTRACTING PARTS FROM TENSORS\n",
      "extract a single element in tensor\n",
      "tensor[0,2] as tensor:\n",
      "0.767478\n",
      "[ CPUFloatType{} ]\n",
      "tensor[0,2] as value:\n",
      "0.767478\n"
     ]
    },
    {
     "data": {
      "text/plain": [
       "@0x7f09a38d9b60"
      ]
     },
     "execution_count": 4,
     "metadata": {},
     "output_type": "execute_result"
    }
   ],
   "source": [
    "using torch::indexing::Slice;\n",
    "using torch::indexing::None;\n",
    "using torch::indexing::Ellipsis;\n",
    "\n",
    "std::cout << \"SLICING AND EXTRACTING PARTS FROM TENSORS\" << std::endl;\n",
    "\n",
    "std::cout << \"extract a single element in tensor\" << std::endl;\n",
    "std::cout << \"tensor[0,2] as tensor:\\n\" << a.index({0,2}) << std::endl;\n",
    "std::cout << \"tensor[0,2] as value:\\n\" << a.index({0,2}).item<float_t>() << std::endl;\n",
    "// output:\n",
    "// 3"
   ]
  },
  {
   "cell_type": "code",
   "execution_count": 5,
   "id": "2b74b7d9",
   "metadata": {},
   "outputs": [
    {
     "name": "stdout",
     "output_type": "stream",
     "text": [
      "slice a tensor along a dimension at a given index\n",
      "tensor[:,2] \n",
      " 0.6663\n",
      " 0.6410\n",
      " 0.0876\n",
      "[ CPUFloatType{3} ]\n",
      "size: \n",
      "[3]\n"
     ]
    }
   ],
   "source": [
    "std::cout << \"slice a tensor along a dimension at a given index\" << std::endl;\n",
    "\n",
    "auto b = a.index({Slice(), 1});\n",
    "\n",
    "std::cout << \"tensor[:,2] \\n\" << b << std::endl;\n",
    "std::cout << \"size: \\n\" << b.sizes() << std::endl;"
   ]
  },
  {
   "cell_type": "code",
   "execution_count": 6,
   "id": "5d2d5cac",
   "metadata": {},
   "outputs": [
    {
     "name": "stdout",
     "output_type": "stream",
     "text": [
      "tensor[:2,:] \n",
      " 0.5059  0.6663  0.7675  0.1553\n",
      " 0.4099  0.6410  0.6247  0.2594\n",
      "[ CPUFloatType{2,4} ]\n"
     ]
    }
   ],
   "source": [
    "//\"slice a tensor along a dimesion at given indices from a start-index up to -\n",
    "// but not including - an end-index using a given step size\"\n",
    "using torch::indexing::None;\n",
    "auto c = a.index({Slice(None,2), Slice()});\n",
    "std::cout << \"tensor[:2,:] \\n\" << c << std::endl;\n"
   ]
  },
  {
   "cell_type": "code",
   "execution_count": 7,
   "id": "472f5925",
   "metadata": {},
   "outputs": [
    {
     "name": "stdout",
     "output_type": "stream",
     "text": [
      "tensor[:,1:] \n",
      " 0.6663  0.7675  0.1553\n",
      " 0.6410  0.6247  0.2594\n",
      " 0.0876  0.2987  0.0506\n",
      "[ CPUFloatType{3,3} ]\n"
     ]
    }
   ],
   "source": [
    "std::cout << \"tensor[:,1:] \\n\" << a.index({Slice(),Slice(1,None)}) << std::endl;"
   ]
  },
  {
   "cell_type": "code",
   "execution_count": 8,
   "id": "687334dc",
   "metadata": {},
   "outputs": [
    {
     "name": "stdout",
     "output_type": "stream",
     "text": [
      "tensor[:2,1] \n",
      " 0.6663\n",
      " 0.6410\n",
      "[ CPUFloatType{2} ]\n"
     ]
    }
   ],
   "source": [
    "//combination\n",
    "std::cout << \"tensor[:2,1] \\n\" << a.index({Slice(None,2),1}) << std::endl;"
   ]
  },
  {
   "cell_type": "code",
   "execution_count": 9,
   "id": "6d7c93ef",
   "metadata": {},
   "outputs": [
    {
     "name": "stdout",
     "output_type": "stream",
     "text": [
      "tensor[...,:2] \n",
      " 0.5059  0.6663\n",
      " 0.4099  0.6410\n",
      " 0.9897  0.0876\n",
      "[ CPUFloatType{3,2} ]\n"
     ]
    }
   ],
   "source": [
    "using torch::indexing::Ellipsis;\n",
    "std::cout << \"tensor[...,:2] \\n\" << a.index({Ellipsis, Slice(None,2)}) << std::endl;"
   ]
  },
  {
   "cell_type": "markdown",
   "id": "894b91db",
   "metadata": {},
   "source": [
    "### for data  with more than 2d dimensions"
   ]
  },
  {
   "cell_type": "code",
   "execution_count": 10,
   "id": "e7f1d32f",
   "metadata": {},
   "outputs": [
    {
     "name": "stdout",
     "output_type": "stream",
     "text": [
      "(1,.,.) = \n",
      "  0.8247 -0.7701 -0.0878  1.3090\n",
      "  0.7658  0.5579  0.3113  0.4809\n",
      " -1.7630  0.8461  0.9439 -1.0040\n",
      "\n",
      "(2,.,.) = \n",
      " -0.0073 -0.8099  0.9322 -0.0494\n",
      " -1.3005 -1.2761  1.5694  0.1823\n",
      "  0.2514  0.3731  2.6828  0.7863\n",
      "[ CPUFloatType{2,3,4} ]\n"
     ]
    }
   ],
   "source": [
    "torch::Tensor data_nd = torch::randn({2,3,4});\n",
    "std::cout << data_nd << std::endl;"
   ]
  },
  {
   "cell_type": "code",
   "execution_count": 11,
   "id": "bbdee0a0",
   "metadata": {},
   "outputs": [
    {
     "name": "stdout",
     "output_type": "stream",
     "text": [
      "(1,.,.) = \n",
      " -0.0878  1.3090\n",
      "  0.3113  0.4809\n",
      "\n",
      "(2,.,.) = \n",
      "  0.9322 -0.0494\n",
      "  1.5694  0.1823\n",
      "[ CPUFloatType{2,2,2} ]\n"
     ]
    }
   ],
   "source": [
    "std::cout << data_nd.index({Ellipsis, Slice(None,2), Slice(2,None)}) << std::endl;"
   ]
  },
  {
   "cell_type": "markdown",
   "id": "b8386cf5",
   "metadata": {},
   "source": [
    "# setter"
   ]
  },
  {
   "cell_type": "code",
   "execution_count": 31,
   "id": "36ffcc0b",
   "metadata": {},
   "outputs": [
    {
     "name": "stdout",
     "output_type": "stream",
     "text": [
      " 0.2061  0.2293  0.5358  0.0113\n",
      " 0.8426  0.5907  0.2198  0.3660\n",
      " 0.1631  0.4184  0.5689  0.5913\n",
      "[ CPUFloatType{3,4} ]\n",
      " 0.2061  0.2293  0.5358  0.0113\n",
      " 0.8426  0.5907  1.1000  0.3660\n",
      " 0.1631  0.4184  0.5689  0.5913\n",
      "[ CPUFloatType{3,4} ]\n"
     ]
    }
   ],
   "source": [
    "std::cout << a << std::endl;\n",
    "\n",
    "//set operation\n",
    "a.index_put_({1, 2}, 1.1);\n",
    "    \n",
    "std::cout << a << std::endl;"
   ]
  },
  {
   "cell_type": "code",
   "execution_count": 32,
   "id": "6aaa1ae7",
   "metadata": {},
   "outputs": [
    {
     "name": "stdout",
     "output_type": "stream",
     "text": [
      " 0.2061  0.2293  0.5358  0.0113\n",
      " 0.8426  0.5907  1.1000  0.3660\n",
      " 0.1631  0.4184  0.5689  0.5913\n",
      "[ CPUFloatType{3,4} ]\n",
      " 0.2061  1.1000  0.5358  0.0113\n",
      " 0.8426  1.1000  1.1000  0.3660\n",
      " 0.1631  1.1000  0.5689  0.5913\n",
      "[ CPUFloatType{3,4} ]\n"
     ]
    }
   ],
   "source": [
    "std::cout << a << std::endl;\n",
    "\n",
    "//set operation\n",
    "a.index_put_({Slice(), 1}, 1.1);\n",
    "    \n",
    "std::cout << a << std::endl;"
   ]
  },
  {
   "cell_type": "code",
   "execution_count": 33,
   "id": "3a4be569",
   "metadata": {},
   "outputs": [
    {
     "name": "stdout",
     "output_type": "stream",
     "text": [
      " 0.5547  0.1854  0.2680\n",
      " 0.8357  0.9298  0.4197\n",
      "[ CPUFloatType{2,3} ]\n"
     ]
    }
   ],
   "source": [
    "torch::Tensor b = torch::rand({2,3}, torch::kFloat32);\n",
    "std::cout << b << std:: endl; "
   ]
  },
  {
   "cell_type": "code",
   "execution_count": 35,
   "id": "89ee862c",
   "metadata": {},
   "outputs": [
    {
     "name": "stdout",
     "output_type": "stream",
     "text": [
      " 0.2061  1.1000  1.1000  1.1000\n",
      " 0.8426  1.1000  1.1000  1.1000\n",
      " 0.1631  1.1000  0.5689  0.5913\n",
      "[ CPUFloatType{3,4} ]\n",
      " 0.2061  0.5547  0.1854  0.2680\n",
      " 0.8426  0.8357  0.9298  0.4197\n",
      " 0.1631  1.1000  0.5689  0.5913\n",
      "[ CPUFloatType{3,4} ]\n"
     ]
    }
   ],
   "source": [
    "using torch::indexing::None;\n",
    "std::cout << a << std::endl;\n",
    "\n",
    "//set operation\n",
    "a.index_put_({Slice(None,2), Slice(1,None)}, b);\n",
    "    \n",
    "std::cout << a << std::endl;"
   ]
  },
  {
   "cell_type": "code",
   "execution_count": 13,
   "id": "4dc2a2ce",
   "metadata": {},
   "outputs": [
    {
     "name": "stdout",
     "output_type": "stream",
     "text": [
      "(1,.,.) = \n",
      "  0.8247 -0.7701  1.1110  1.1110\n",
      "  0.7658  0.5579  1.1110  1.1110\n",
      " -1.7630  0.8461  0.9439 -1.0040\n",
      "\n",
      "(2,.,.) = \n",
      " -0.0073 -0.8099  1.1110  1.1110\n",
      " -1.3005 -1.2761  1.1110  1.1110\n",
      "  0.2514  0.3731  2.6828  0.7863\n",
      "[ CPUFloatType{2,3,4} ]\n"
     ]
    }
   ],
   "source": [
    "data_nd.index_put_({Ellipsis, Slice(None,2), Slice(2,None)}, 1.111);\n",
    "std::cout << data_nd << std::endl;"
   ]
  },
  {
   "cell_type": "code",
   "execution_count": 14,
   "id": "af4761f3",
   "metadata": {},
   "outputs": [
    {
     "name": "stdout",
     "output_type": "stream",
     "text": [
      "(1,.,.) = \n",
      "  0.8247 -0.7701  0.0000  0.0000\n",
      "  0.7658  0.5579  0.0000  0.0000\n",
      " -1.7630  0.8461  0.9439 -1.0040\n",
      "\n",
      "(2,.,.) = \n",
      " -0.0073 -0.8099  0.0000  0.0000\n",
      " -1.3005 -1.2761  0.0000  0.0000\n",
      "  0.2514  0.3731  2.6828  0.7863\n",
      "[ CPUFloatType{2,3,4} ]\n"
     ]
    }
   ],
   "source": [
    "data_nd.index_put_({Ellipsis, Slice(None,2), Slice(2,None)}, torch::zeros({2,2}));\n",
    "std::cout << data_nd << std::endl;"
   ]
  },
  {
   "cell_type": "markdown",
   "id": "08ae8be7",
   "metadata": {},
   "source": [
    "## checkout deep copy and shallow copy in libtorch"
   ]
  },
  {
   "cell_type": "code",
   "execution_count": 38,
   "id": "065a6d29",
   "metadata": {},
   "outputs": [
    {
     "name": "stdout",
     "output_type": "stream",
     "text": [
      " 0.2061  0.5547  0.1854  0.2680\n",
      " 0.8426  0.8357  0.9298  0.4197\n",
      " 0.1631  1.1000  0.5689  0.5913\n",
      "[ CPUFloatType{3,4} ]\n",
      " 0.5547  0.1854  0.2680\n",
      " 0.8357  0.9298  0.4197\n",
      "[ CPUFloatType{2,3} ]\n",
      " 0.5547  0.1854  0.2680\n",
      " 0.8357  0.9298  0.0080\n",
      "[ CPUFloatType{2,3} ]\n",
      " 0.2061  0.5547  0.1854  0.2680\n",
      " 0.8426  0.8357  0.9298  0.0080\n",
      " 0.1631  1.1000  0.5689  0.5913\n",
      "[ CPUFloatType{3,4} ]\n"
     ]
    }
   ],
   "source": [
    "using torch::indexing::None;\n",
    "std::cout << a << std::endl;\n",
    "\n",
    "//set operation\n",
    "auto d = a.index({Slice(None,2), Slice(1,None)});\n",
    "\n",
    "std::cout << d << std::endl;\n",
    "\n",
    "d.index_put_({1, 2}, 0.008);\n",
    "std::cout << d << std::endl;\n",
    "\n",
    "\n",
    "std::cout << a << std::endl;"
   ]
  },
  {
   "cell_type": "markdown",
   "id": "38918af9",
   "metadata": {},
   "source": [
    "**attention: the index operation is shallow copy, which mean if you change the value of copied data, the raw data will be changed**"
   ]
  },
  {
   "cell_type": "code",
   "execution_count": 41,
   "id": "968aec43",
   "metadata": {},
   "outputs": [
    {
     "name": "stdout",
     "output_type": "stream",
     "text": [
      " 0.2061  0.5547  0.1854  0.2680\n",
      " 0.8426  0.8357  0.9298  0.0080\n",
      " 0.1631  1.1000  0.5689  0.5913\n",
      "[ CPUFloatType{3,4} ]\n",
      " 0.5547  0.1854  0.2680\n",
      " 0.8357  0.9298  0.0080\n",
      "[ CPUFloatType{2,3} ]\n",
      " 0.5547  0.1854  0.2680\n",
      " 0.8357  0.9298  0.0081\n",
      "[ CPUFloatType{2,3} ]\n",
      " 0.2061  0.5547  0.1854  0.2680\n",
      " 0.8426  0.8357  0.9298  0.0080\n",
      " 0.1631  1.1000  0.5689  0.5913\n",
      "[ CPUFloatType{3,4} ]\n"
     ]
    }
   ],
   "source": [
    "using torch::indexing::None;\n",
    "std::cout << a << std::endl;\n",
    "\n",
    "//set operation\n",
    "auto d = a.index({Slice(None,2), Slice(1,None)}).clone();\n",
    "\n",
    "std::cout << d << std::endl;\n",
    "\n",
    "d.index_put_({1, 2}, 0.0088);\n",
    "std::cout << d << std::endl;\n",
    "\n",
    "\n",
    "std::cout << a << std::endl;"
   ]
  },
  {
   "cell_type": "code",
   "execution_count": 44,
   "id": "32e8c770",
   "metadata": {},
   "outputs": [
    {
     "name": "stdout",
     "output_type": "stream",
     "text": [
      " 0.2061  0.5547  0.1854  0.2680\n",
      " 0.8426  0.8357  0.9298  0.0080\n",
      " 0.1631  1.1000  0.5689  0.5913\n",
      "[ CPUFloatType{3,4} ]\n"
     ]
    }
   ],
   "source": [
    "std::cout << a << std::endl;"
   ]
  },
  {
   "cell_type": "code",
   "execution_count": 49,
   "id": "6639309d",
   "metadata": {},
   "outputs": [
    {
     "name": "stdout",
     "output_type": "stream",
     "text": [
      " 0.8426\n",
      " 0.8357\n",
      " 0.9298\n",
      " 0.0080\n",
      "[ CPUFloatType{4} ]\n"
     ]
    }
   ],
   "source": [
    "std::cout << a[1] << std::endl;"
   ]
  },
  {
   "cell_type": "code",
   "execution_count": null,
   "id": "9a58545e",
   "metadata": {},
   "outputs": [],
   "source": []
  }
 ],
 "metadata": {
  "kernelspec": {
   "display_name": "C++14",
   "language": "C++14",
   "name": "xcpp14"
  },
  "language_info": {
   "codemirror_mode": "text/x-c++src",
   "file_extension": ".cpp",
   "mimetype": "text/x-c++src",
   "name": "c++",
   "version": "14"
  }
 },
 "nbformat": 4,
 "nbformat_minor": 5
}
