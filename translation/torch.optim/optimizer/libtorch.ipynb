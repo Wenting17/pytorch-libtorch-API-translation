{
 "cells": [
  {
   "cell_type": "markdown",
   "id": "fd7ac525",
   "metadata": {},
   "source": [
    "# How to use an optimizer\n",
    "To use torch.optim you have to construct an optimizer object, that will hold the current state and will update the parameters based on the computed gradients."
   ]
  },
  {
   "cell_type": "code",
   "execution_count": 1,
   "id": "9f5433d2",
   "metadata": {},
   "outputs": [],
   "source": [
    "#pragma cling add_include_path(\"../../libtorch/include\")\n",
    "#pragma cling add_include_path(\"../../libtorch/include/torch/csrc/api/include\")\n",
    "#pragma cling add_library_path(\"../../libtorch/lib\")\n",
    "#pragma cling load(\"libtorch\")"
   ]
  },
  {
   "cell_type": "code",
   "execution_count": 2,
   "id": "a95cd044",
   "metadata": {},
   "outputs": [],
   "source": [
    "#include <iostream>\n",
    "#include <string>\n",
    "#include <tuple>\n",
    "#include <torch/torch.h>\n",
    "namespace nn = torch::nn;"
   ]
  },
  {
   "cell_type": "markdown",
   "id": "d0c2ab61",
   "metadata": {},
   "source": [
    "note: the grad of a parameter can be overwritten"
   ]
  },
  {
   "cell_type": "code",
   "execution_count": 3,
   "id": "a4c34459",
   "metadata": {},
   "outputs": [
    {
     "name": "stdout",
     "output_type": "stream",
     "text": [
      " 1\n",
      " 2\n",
      "[ CPUFloatType{2} ]\n",
      "1\n"
     ]
    }
   ],
   "source": [
    "torch::Tensor w = torch::tensor({1.0, 2.0}, torch::requires_grad());\n",
    "std::cout << w << std::endl;\n",
    "std::cout << w.requires_grad() << std::endl;"
   ]
  },
  {
   "cell_type": "code",
   "execution_count": 4,
   "id": "d131f938",
   "metadata": {},
   "outputs": [],
   "source": [
    "w.sum().backward();"
   ]
  },
  {
   "cell_type": "code",
   "execution_count": 5,
   "id": "850639d5",
   "metadata": {},
   "outputs": [
    {
     "name": "stdout",
     "output_type": "stream",
     "text": [
      " 1\n",
      " 1\n",
      "[ CPUFloatType{2} ]"
     ]
    }
   ],
   "source": [
    "std::cout << w.grad();"
   ]
  },
  {
   "cell_type": "code",
   "execution_count": 6,
   "id": "4eae7f16",
   "metadata": {},
   "outputs": [],
   "source": [
    "auto option = torch::optim::SGDOptions(0.1);"
   ]
  },
  {
   "cell_type": "code",
   "execution_count": 7,
   "id": "5ac04672",
   "metadata": {},
   "outputs": [],
   "source": [
    "torch::optim::SGD oprimizer({w}, option);"
   ]
  },
  {
   "cell_type": "code",
   "execution_count": 8,
   "id": "50d98dcc",
   "metadata": {},
   "outputs": [],
   "source": [
    "oprimizer.step();"
   ]
  },
  {
   "cell_type": "code",
   "execution_count": 9,
   "id": "b2b305c9",
   "metadata": {},
   "outputs": [
    {
     "name": "stdout",
     "output_type": "stream",
     "text": [
      " 0.9000\n",
      " 1.9000\n",
      "[ CPUFloatType{2} ]\n"
     ]
    }
   ],
   "source": [
    "std::cout << w << std::endl;"
   ]
  },
  {
   "cell_type": "markdown",
   "id": "e9db4750",
   "metadata": {},
   "source": [
    "## understand SGD"
   ]
  },
  {
   "cell_type": "code",
   "execution_count": 10,
   "id": "44ac8e64",
   "metadata": {},
   "outputs": [],
   "source": [
    "class CustomSGDOptimizer{\n",
    "    public:\n",
    "    torch::Tensor param;\n",
    "    float lr;\n",
    "    \n",
    "    CustomSGDOptimizer(torch::Tensor param, float lr):param(param), lr(lr){\n",
    "    }\n",
    "    \n",
    "    void step(){\n",
    "        {\n",
    "            torch::NoGradGuard no_grad;\n",
    "            param.data().add_(param.grad(), -1 * lr);\n",
    "        }\n",
    "    }\n",
    "}"
   ]
  },
  {
   "cell_type": "code",
   "execution_count": 11,
   "id": "6450ad9e",
   "metadata": {},
   "outputs": [
    {
     "name": "stdout",
     "output_type": "stream",
     "text": [
      " 1\n",
      " 2\n",
      "[ CPUFloatType{2} ]\n",
      "1\n"
     ]
    }
   ],
   "source": [
    "torch::Tensor custom_w = torch::tensor({1.0, 2.0}, torch::requires_grad());\n",
    "std::cout << custom_w << std::endl;\n",
    "std::cout << custom_w.requires_grad() << std::endl;"
   ]
  },
  {
   "cell_type": "code",
   "execution_count": 12,
   "id": "fd11b703",
   "metadata": {},
   "outputs": [],
   "source": [
    "custom_w.sum().backward();"
   ]
  },
  {
   "cell_type": "code",
   "execution_count": 13,
   "id": "31799e4e",
   "metadata": {},
   "outputs": [
    {
     "name": "stdout",
     "output_type": "stream",
     "text": [
      " 1\n",
      " 1\n",
      "[ CPUFloatType{2} ]"
     ]
    }
   ],
   "source": [
    "std::cout << custom_w.grad();"
   ]
  },
  {
   "cell_type": "code",
   "execution_count": 14,
   "id": "5eb43c3e",
   "metadata": {},
   "outputs": [],
   "source": [
    "CustomSGDOptimizer custom_optimizer(custom_w, 0.1);"
   ]
  },
  {
   "cell_type": "code",
   "execution_count": 19,
   "id": "a6cae840",
   "metadata": {},
   "outputs": [],
   "source": [
    "custom_optimizer.step();"
   ]
  },
  {
   "cell_type": "code",
   "execution_count": 20,
   "id": "8df0e655",
   "metadata": {},
   "outputs": [
    {
     "name": "stdout",
     "output_type": "stream",
     "text": [
      " 0.9000\n",
      " 1.9000\n",
      "[ CPUFloatType{2} ]\n"
     ]
    }
   ],
   "source": [
    "std::cout << custom_w << std::endl;"
   ]
  },
  {
   "cell_type": "code",
   "execution_count": null,
   "id": "364e64ab",
   "metadata": {},
   "outputs": [],
   "source": []
  }
 ],
 "metadata": {
  "kernelspec": {
   "display_name": "C++17",
   "language": "C++17",
   "name": "xcpp17"
  },
  "language_info": {
   "codemirror_mode": "text/x-c++src",
   "file_extension": ".cpp",
   "mimetype": "text/x-c++src",
   "name": "c++",
   "version": "17"
  }
 },
 "nbformat": 4,
 "nbformat_minor": 5
}
